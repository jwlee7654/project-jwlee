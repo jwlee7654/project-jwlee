{
 "cells": [
  {
   "cell_type": "code",
   "execution_count": 1,
   "id": "736de90b-bd8c-4114-868a-237e3604f479",
   "metadata": {},
   "outputs": [
    {
     "name": "stdout",
     "output_type": "stream",
     "text": [
      "1\n",
      "2\n",
      "3\n",
      "4\n",
      "5\n",
      "\n",
      "\n",
      "0\n",
      "1\n",
      "2\n",
      "3\n",
      "4\n",
      "5\n",
      "6\n",
      "7\n",
      "8\n",
      "9\n"
     ]
    }
   ],
   "source": [
    "#for loop\n",
    "\n",
    "nums = [1, 2, 3, 4, 5]\n",
    "for num in nums:\n",
    "    print(num)\n",
    "\n",
    "print('\\n')\n",
    "\n",
    "\n",
    "# range()\n",
    "for num in range(10):\n",
    "    print(num)"
   ]
  },
  {
   "cell_type": "code",
   "execution_count": 2,
   "id": "af19e3ce-0cd6-4cf5-8778-b31936a20e80",
   "metadata": {},
   "outputs": [
    {
     "name": "stdout",
     "output_type": "stream",
     "text": [
      "1\n",
      "2\n",
      "4\n",
      "5\n",
      "2\n",
      "\n",
      "\n",
      "stage1 is complete.\n",
      "stage2 is complete.\n",
      "stage3 is complete.\n",
      "Game is Over...\n"
     ]
    }
   ],
   "source": [
    "#continue\n",
    "\n",
    "nums = [1, 2, -1, 4, -5, 5, 2, -9]\n",
    "for num in nums:\n",
    "    # If num is negative, we skip it.\n",
    "    if num < 0:\n",
    "        continue\n",
    "    print(num)\n",
    "\n",
    "print('\\n')\n",
    "\n",
    "\n",
    "#break\n",
    "\n",
    "game_plays = ['stage1', 'stage2', 'stage3', 'gameover', 'stage4', 'stage5']\n",
    "for play in game_plays:\n",
    "    if play == 'gameover':\n",
    "        print('Game is Over...')\n",
    "        break\n",
    "    print(play + ' is complete.')"
   ]
  },
  {
   "cell_type": "code",
   "execution_count": 3,
   "id": "d537ae5f-1a31-4fb3-9ab4-df159e4d14c9",
   "metadata": {},
   "outputs": [
    {
     "name": "stdout",
     "output_type": "stream",
     "text": [
      "[1, 1, 4, 27, 256, 3125, 46656, 823543, 16777216, 387420489]\n",
      "감독님한테 혼날 사람\n",
      "['해리 케인', '탕기 은돔벨레']\n"
     ]
    }
   ],
   "source": [
    "#list comprehension\n",
    "\n",
    "one_to_ten = [i**i for i in range(10)]\n",
    "print(one_to_ten)\n",
    "\n",
    "\n",
    "# list comprehension w/ conditions\n",
    "\n",
    "hotspurs = [['손흥민', 'A+'], ['해리 케인', 'F'], ['탕기 은돔벨레', 'F'], ['델리 알리', 'B'], ['루카스 모우라', 'B+'], ['이메르송', 'D']]\n",
    "poors = [player[0] for player in hotspurs if player[1] == 'F']\n",
    "print('감독님한테 혼날 사람')\n",
    "print(poors)"
   ]
  },
  {
   "cell_type": "code",
   "execution_count": 4,
   "id": "827cab3b-ac1a-43d4-a500-c7a228d9476c",
   "metadata": {},
   "outputs": [
    {
     "name": "stdout",
     "output_type": "stream",
     "text": [
      "1 X 1 = 1\n",
      "1 X 2 = 2\n",
      "1 X 3 = 3\n",
      "1 X 4 = 4\n",
      "1 X 5 = 5\n",
      "1 X 6 = 6\n",
      "1 X 7 = 7\n",
      "1 X 8 = 8\n",
      "1 X 9 = 9\n",
      "2 X 1 = 2\n",
      "2 X 2 = 4\n",
      "2 X 3 = 6\n",
      "2 X 4 = 8\n",
      "2 X 5 = 10\n",
      "2 X 6 = 12\n",
      "2 X 7 = 14\n",
      "2 X 8 = 16\n",
      "2 X 9 = 18\n",
      "3 X 1 = 3\n",
      "3 X 2 = 6\n",
      "3 X 3 = 9\n",
      "3 X 4 = 12\n",
      "3 X 5 = 15\n",
      "3 X 6 = 18\n",
      "3 X 7 = 21\n",
      "3 X 8 = 24\n",
      "3 X 9 = 27\n",
      "4 X 1 = 4\n",
      "4 X 2 = 8\n",
      "4 X 3 = 12\n",
      "4 X 4 = 16\n",
      "4 X 5 = 20\n",
      "4 X 6 = 24\n",
      "4 X 7 = 28\n",
      "4 X 8 = 32\n",
      "4 X 9 = 36\n",
      "5 X 1 = 5\n",
      "5 X 2 = 10\n",
      "5 X 3 = 15\n",
      "5 X 4 = 20\n",
      "5 X 5 = 25\n",
      "5 X 6 = 30\n",
      "5 X 7 = 35\n",
      "5 X 8 = 40\n",
      "5 X 9 = 45\n",
      "6 X 1 = 6\n",
      "6 X 2 = 12\n",
      "6 X 3 = 18\n",
      "6 X 4 = 24\n",
      "6 X 5 = 30\n",
      "6 X 6 = 36\n",
      "6 X 7 = 42\n",
      "6 X 8 = 48\n",
      "6 X 9 = 54\n",
      "7 X 1 = 7\n",
      "7 X 2 = 14\n",
      "7 X 3 = 21\n",
      "7 X 4 = 28\n",
      "7 X 5 = 35\n",
      "7 X 6 = 42\n",
      "7 X 7 = 49\n",
      "7 X 8 = 56\n",
      "7 X 9 = 63\n",
      "8 X 1 = 8\n",
      "8 X 2 = 16\n",
      "8 X 3 = 24\n",
      "8 X 4 = 32\n",
      "8 X 5 = 40\n",
      "8 X 6 = 48\n",
      "8 X 7 = 56\n",
      "8 X 8 = 64\n",
      "8 X 9 = 72\n",
      "9 X 1 = 9\n",
      "9 X 2 = 18\n",
      "9 X 3 = 27\n",
      "9 X 4 = 36\n",
      "9 X 5 = 45\n",
      "9 X 6 = 54\n",
      "9 X 7 = 63\n",
      "9 X 8 = 72\n",
      "9 X 9 = 81\n"
     ]
    }
   ],
   "source": [
    "#nested loop\n",
    "\n",
    "one_to_nine = [i + 1 for i in range(9)]\n",
    "for i in one_to_nine:\n",
    "    for j in one_to_nine:\n",
    "        print(\"%d X %d = %d\" % (i, j, i*j))"
   ]
  },
  {
   "cell_type": "code",
   "execution_count": 5,
   "id": "e19072d1-3de7-4e49-a93b-122c2d7ec2fc",
   "metadata": {},
   "outputs": [
    {
     "name": "stdout",
     "output_type": "stream",
     "text": [
      "참치김밥 냠냠\n",
      "순대 냠냠\n",
      "로제떡볶이 냠냠\n",
      "김말이 냠냠\n",
      "배부르다\n"
     ]
    }
   ],
   "source": [
    "#while loop\n",
    "\n",
    "hungry = True\n",
    "foods_on_table = ['참치김밥', '순대', '로제떡볶이', '김말이', '오뎅', '단무지', '고로케']\n",
    "foods_num = 7\n",
    "ate_num = 0\n",
    "\n",
    "while ate_num < 4:\n",
    "    print(foods_on_table[ate_num] + ' 냠냠')\n",
    "    ate_num += 1\n",
    "\n",
    "print('배부르다')"
   ]
  },
  {
   "cell_type": "code",
   "execution_count": null,
   "id": "1f3db7f1-6d78-4d21-9567-f039640f49e6",
   "metadata": {},
   "outputs": [],
   "source": []
  },
  {
   "cell_type": "code",
   "execution_count": null,
   "id": "4a6397be-d4a3-443a-a888-78c80462493c",
   "metadata": {},
   "outputs": [],
   "source": []
  },
  {
   "cell_type": "code",
   "execution_count": null,
   "id": "92d27abb-0b89-4464-85e6-2504fc8abe34",
   "metadata": {},
   "outputs": [],
   "source": []
  },
  {
   "cell_type": "code",
   "execution_count": null,
   "id": "af062cb3-a600-484b-a1f5-8dc168171487",
   "metadata": {},
   "outputs": [],
   "source": []
  }
 ],
 "metadata": {
  "kernelspec": {
   "display_name": "Python 3",
   "language": "python",
   "name": "python3"
  },
  "language_info": {
   "codemirror_mode": {
    "name": "ipython",
    "version": 3
   },
   "file_extension": ".py",
   "mimetype": "text/x-python",
   "name": "python",
   "nbconvert_exporter": "python",
   "pygments_lexer": "ipython3",
   "version": "3.8.8"
  }
 },
 "nbformat": 4,
 "nbformat_minor": 5
}
