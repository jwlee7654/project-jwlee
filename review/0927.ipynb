{
 "cells": [
  {
   "cell_type": "code",
   "execution_count": 1,
   "id": "b112652b-898a-4208-a1ed-cadca8bc9882",
   "metadata": {},
   "outputs": [
    {
     "name": "stdout",
     "output_type": "stream",
     "text": [
      "3\n",
      "2\n"
     ]
    }
   ],
   "source": [
    "#function / method\n",
    "\n",
    "#function\n",
    "\n",
    "def my_function(x):\n",
    "    return x+1\n",
    "\n",
    "y = 2\n",
    "result = my_function(y)\n",
    "print(result)\n",
    "\n",
    "\n",
    "\n",
    "#method\n",
    "\n",
    "x = 1\n",
    "class my_class:\n",
    "    def my_method(self):\n",
    "        return x + 1\n",
    "\n",
    "cls = my_class()\n",
    "\n",
    "print(cls.my_method())"
   ]
  },
  {
   "cell_type": "code",
   "execution_count": 3,
   "id": "4a51b539-71a8-41fb-9885-eab3b5108ce6",
   "metadata": {},
   "outputs": [
    {
     "name": "stdout",
     "output_type": "stream",
     "text": [
      "Hello everyone, my name is Lee Jae Won, I was born in 1999,         and I live in Incheon.\n"
     ]
    }
   ],
   "source": [
    "#function parameters\n",
    "\n",
    "def introduce_myself(name, birthyear, city):\n",
    "    print(\"Hello everyone, my name is %s, I was born in %d, \\\n",
    "        and I live in %s.\" % (name, birthyear, city))\n",
    "\n",
    "introduce_myself(\"Lee Jae Won\", 1999, \"Incheon\")"
   ]
  },
  {
   "cell_type": "code",
   "execution_count": 4,
   "id": "9674f010-e716-404f-95c5-75ac3f603916",
   "metadata": {},
   "outputs": [
    {
     "name": "stdout",
     "output_type": "stream",
     "text": [
      "2020 is a leap year.\n"
     ]
    }
   ],
   "source": [
    "#return\n",
    "\n",
    "#leap year = 윤년\n",
    "\n",
    "def check_leap_year(year):\n",
    "    if year % 4 == 0:\n",
    "        return \"%d is a leap year.\" % (year)\n",
    "    else:\n",
    "        return \"%d is not a leap year.\" % (year)\n",
    "\n",
    "print(check_leap_year(2020))"
   ]
  },
  {
   "cell_type": "code",
   "execution_count": 5,
   "id": "9ec938fe-9f52-47f3-90e9-5da4ac675d4c",
   "metadata": {},
   "outputs": [
    {
     "name": "stdout",
     "output_type": "stream",
     "text": [
      "9 16 25\n"
     ]
    }
   ],
   "source": [
    "#multiple values return\n",
    "\n",
    "def square_point(x, y, z):\n",
    "    x_squared = x ** 2\n",
    "    y_squared = y ** 2\n",
    "    z_squared = z ** 2\n",
    "    return x_squared, y_squared, z_squared\n",
    "\n",
    "three_squared, four_squared, five_squared = square_point(3, 4, 5)\n",
    "print(three_squared, four_squared, five_squared)"
   ]
  },
  {
   "cell_type": "code",
   "execution_count": 7,
   "id": "d6313359-b99b-45fc-a14f-a3fedd1556fc",
   "metadata": {},
   "outputs": [
    {
     "name": "stdout",
     "output_type": "stream",
     "text": [
      "Hello\n"
     ]
    }
   ],
   "source": [
    "#global variable\n",
    "\n",
    "a = \"Hello\"\n",
    "\n",
    "def prints_a():\n",
    "    print(a)\n",
    "\n",
    "prints_a()"
   ]
  },
  {
   "cell_type": "code",
   "execution_count": 8,
   "id": "6df2dd2c-003d-4d10-b0ec-e90b5b4e4dc9",
   "metadata": {},
   "outputs": [
    {
     "name": "stdout",
     "output_type": "stream",
     "text": [
      "3\n"
     ]
    }
   ],
   "source": [
    "#local variable\n",
    "\n",
    "a = 5 # global var.\n",
    "\n",
    "def f1():\n",
    "    g = 3 # local var.\n",
    "    print(g)\n",
    "\n",
    "f1()"
   ]
  },
  {
   "cell_type": "code",
   "execution_count": 10,
   "id": "4db181f1-c6a9-40f0-81d6-b3e4feae879c",
   "metadata": {},
   "outputs": [
    {
     "name": "stdout",
     "output_type": "stream",
     "text": [
      "Height = 1\n",
      "Width = 2\n",
      "Depth = 3\n",
      "Height = 1\n",
      "Width = 2\n",
      "Depth = 3\n"
     ]
    }
   ],
   "source": [
    "# keyword arguments & default values\n",
    "\n",
    "def findvolume(height=1, width=1, depth=1):\n",
    "    print(\"Height = \" + str(height))\n",
    "    print(\"Width = \" + str(width))\n",
    "    print(\"Depth = \" + str(depth))\n",
    "\n",
    "findvolume(1, 2, 3)\n",
    "findvolume(depth=3, width=2, height=1)"
   ]
  },
  {
   "cell_type": "code",
   "execution_count": null,
   "id": "d898f749-8786-4150-9d9b-4d53b5d1f682",
   "metadata": {},
   "outputs": [],
   "source": []
  }
 ],
 "metadata": {
  "kernelspec": {
   "display_name": "Python 3",
   "language": "python",
   "name": "python3"
  },
  "language_info": {
   "codemirror_mode": {
    "name": "ipython",
    "version": 3
   },
   "file_extension": ".py",
   "mimetype": "text/x-python",
   "name": "python",
   "nbconvert_exporter": "python",
   "pygments_lexer": "ipython3",
   "version": "3.8.8"
  }
 },
 "nbformat": 4,
 "nbformat_minor": 5
}
