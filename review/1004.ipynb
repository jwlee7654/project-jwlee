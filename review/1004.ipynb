{
 "cells": [
  {
   "cell_type": "code",
   "execution_count": 1,
   "id": "95c63cd1-df71-40eb-ae06-2955579151ff",
   "metadata": {},
   "outputs": [],
   "source": [
    "import numpy as np"
   ]
  },
  {
   "cell_type": "code",
   "execution_count": 2,
   "id": "fe12e9ae-d34d-4036-88de-5f2258afe724",
   "metadata": {},
   "outputs": [
    {
     "name": "stdout",
     "output_type": "stream",
     "text": [
      "[0 1 2]\n",
      "[2 3 4]\n",
      "[1 3 5 7]\n"
     ]
    }
   ],
   "source": [
    "##NumPy Array Attributes##\n",
    "\n",
    "#array creation\n",
    "\n",
    "print(np.arange(3)) #stop\n",
    "print(np.arange(2, 5)) # start, stop\n",
    "print(np.arange(1, 9, 2)) # start, stop, step"
   ]
  },
  {
   "cell_type": "code",
   "execution_count": 3,
   "id": "d7f3585b-a407-4d9a-9941-328ab762641f",
   "metadata": {},
   "outputs": [
    {
     "name": "stdout",
     "output_type": "stream",
     "text": [
      "[27 52  4 84 62] \n",
      "\n",
      "[[87 64 11 28 66]\n",
      " [ 3 97 16  4  6]\n",
      " [45 99 12 19 36]] \n",
      "\n",
      "[[[51 18]\n",
      "  [63 94]\n",
      "  [20 88]\n",
      "  [25 20]\n",
      "  [56 76]]\n",
      "\n",
      " [[18 72]\n",
      "  [71 41]\n",
      "  [31 18]\n",
      "  [70 28]\n",
      "  [64 43]]\n",
      "\n",
      " [[71 36]\n",
      "  [77 85]\n",
      "  [85 61]\n",
      "  [68 77]\n",
      "  [18 85]]]\n"
     ]
    }
   ],
   "source": [
    "#random num generator\n",
    "\n",
    "arr1 = np.random.randint(100, size=(5)) # 0 ~ 9\n",
    "print(arr1, \"\\n\")\n",
    "\n",
    "arr2 = np.random.randint(100, size=(3, 5))\n",
    "print(arr2, \"\\n\")\n",
    "\n",
    "arr3 = np.random.randint(100, size=(3, 5, 2))\n",
    "print(arr3)"
   ]
  },
  {
   "cell_type": "code",
   "execution_count": 6,
   "id": "5db78a56-5b91-43d5-9997-50a6f051bebf",
   "metadata": {},
   "outputs": [
    {
     "name": "stdout",
     "output_type": "stream",
     "text": [
      "arr1.ndim = 1\n",
      "arr2.ndim = (3, 5)\n",
      "arr2.size = 15\n",
      "arr2.dtype = int32\n",
      "arr2.itemsize = 4\n",
      "arr4.itemsize = 8\n",
      "arr2.nbytes = 60\n"
     ]
    }
   ],
   "source": [
    "#attributes\n",
    "\n",
    "print(\"arr1.ndim =\", arr1.ndim) # 차원 개수\n",
    "print(\"arr2.ndim =\", arr2.shape) # 차원 정보\n",
    "print(\"arr2.size =\", arr2.size) # 전체 배열 크기\n",
    "\n",
    "print(\"arr2.dtype =\", arr2.dtype)\n",
    "print(\"arr2.itemsize =\", arr2.itemsize) # 원소별 메모리 크기\n",
    "\n",
    "arr4 = np.array([1.5, 2.3, 3.4])\n",
    "print(\"arr4.itemsize =\", arr4.itemsize)\n",
    "\n",
    "print(\"arr2.nbytes =\", arr2.nbytes) # 전체 배열 메모리 크기"
   ]
  },
  {
   "cell_type": "code",
   "execution_count": 7,
   "id": "4393d4e7-11ea-4a2c-974b-a6089c4c12d7",
   "metadata": {},
   "outputs": [
    {
     "name": "stdout",
     "output_type": "stream",
     "text": [
      "[[5 8 9 5]\n",
      " [0 0 1 7]\n",
      " [6 9 2 4]] \n",
      "\n",
      "[[5 8]\n",
      " [0 0]] \n",
      "\n",
      "[[-1  8]\n",
      " [ 0  0]] \n",
      "\n",
      "[[-1  8  9  5]\n",
      " [ 0  0  1  7]\n",
      " [ 6  9  2  4]]\n"
     ]
    }
   ],
   "source": [
    "#subarrays as no-copy views\n",
    "\n",
    "np.random.seed(1)\n",
    "arr = np.random.randint(10, size=(3, 4))\n",
    "print(arr, \"\\n\")\n",
    "\n",
    "arr_sub = arr[:2, :2]\n",
    "print(arr_sub, \"\\n\")\n",
    "\n",
    "arr_sub[0, 0] = -1\n",
    "print(arr_sub, \"\\n\")\n",
    "print(arr)"
   ]
  },
  {
   "cell_type": "code",
   "execution_count": 8,
   "id": "5fcc9d8b-0cb6-47b0-9c34-d5e474ecd584",
   "metadata": {},
   "outputs": [
    {
     "name": "stdout",
     "output_type": "stream",
     "text": [
      "[[5 8 9 5]\n",
      " [0 0 1 7]\n",
      " [6 9 2 4]] \n",
      "\n",
      "[[5 8]\n",
      " [0 0]] \n",
      "\n",
      "[[-1  8]\n",
      " [ 0  0]] \n",
      "\n"
     ]
    }
   ],
   "source": [
    "#copy\n",
    "\n",
    "np.random.seed(1)\n",
    "arr = np.random.randint(10, size=(3, 4))\n",
    "print(arr, \"\\n\")\n",
    "\n",
    "arr_sub = arr[:2, :2].copy()\n",
    "print(arr_sub, \"\\n\")\n",
    "\n",
    "arr_sub[0, 0] = -1\n",
    "print(arr_sub, \"\\n\")"
   ]
  },
  {
   "cell_type": "code",
   "execution_count": 9,
   "id": "4ce511ce-7703-4e23-90af-fc8bc5838fa5",
   "metadata": {},
   "outputs": [
    {
     "name": "stdout",
     "output_type": "stream",
     "text": [
      "[1 2 3 4 5 6 7 8 9] \n",
      "\n",
      "[[1 2 3]\n",
      " [4 5 6]\n",
      " [7 8 9]]\n"
     ]
    }
   ],
   "source": [
    "#reshaping arrays\n",
    "\n",
    "arr = np.arange(1, 10)\n",
    "print(arr, \"\\n\")\n",
    "\n",
    "grid = arr.reshape(3, 3)\n",
    "print(grid)"
   ]
  },
  {
   "cell_type": "code",
   "execution_count": 10,
   "id": "5195dfd1-9bbc-41b4-a42b-31a8dcaafa5e",
   "metadata": {},
   "outputs": [
    {
     "name": "stdout",
     "output_type": "stream",
     "text": [
      "[1 2 3]\n",
      "arr.ndim =  1\n",
      "arr.shape =  (3,)\n",
      "\n",
      "\n",
      "[[1]\n",
      " [2]\n",
      " [3]]\n",
      "arr_new.ndim =  2\n",
      "arr_new.shape =  (3, 1)\n"
     ]
    }
   ],
   "source": [
    "#np.newaxis\n",
    "\n",
    "arr = np.array([1, 2, 3])\n",
    "print(arr)\n",
    "print(\"arr.ndim = \", arr.ndim)\n",
    "print(\"arr.shape = \", arr.shape)\n",
    "\n",
    "print(\"\\n\")\n",
    "\n",
    "arr_new = arr[:, np.newaxis]\n",
    "print(arr_new)\n",
    "print(\"arr_new.ndim = \", arr_new.ndim)\n",
    "print(\"arr_new.shape = \", arr_new.shape)"
   ]
  },
  {
   "cell_type": "code",
   "execution_count": 11,
   "id": "ea7e7eee-eb02-4db6-8c25-72779942372c",
   "metadata": {},
   "outputs": [
    {
     "name": "stdout",
     "output_type": "stream",
     "text": [
      "[1 2 3 4 5 6 7 8 9]\n",
      "[[1 2 3]\n",
      " [4 5 6]\n",
      " [7 8 9]]\n"
     ]
    }
   ],
   "source": [
    "#Array Concatenation\n",
    "\n",
    "arr_1 = np.array([1, 2, 3])\n",
    "arr_2 = np.array([4, 5, 6])\n",
    "arr_3 = np.array([7, 8, 9])\n",
    "\n",
    "arr_total = np.concatenate([arr_1, arr_2, arr_3])\n",
    "print(arr_total)\n",
    "\n",
    "arr_total = np.vstack([arr_1, arr_2, arr_3])\n",
    "print(arr_total)"
   ]
  },
  {
   "cell_type": "code",
   "execution_count": 12,
   "id": "29d6650f-91ec-4ea2-b9a3-b877cc6ac139",
   "metadata": {},
   "outputs": [
    {
     "name": "stdout",
     "output_type": "stream",
     "text": [
      "[1, 2, 3, 99, 99, 3, 2, 1]\n",
      "[1 2 3] [99 99] [7 8 9]\n"
     ]
    }
   ],
   "source": [
    "#Array Split\n",
    "\n",
    "arr = [1, 2, 3, 99, 99, 3, 2, 1]\n",
    "print(arr)\n",
    "\n",
    "arr_1, arr_2, arr3 = np.split(arr, [3, 5])\n",
    "print(arr_1, arr_2, arr_3)"
   ]
  },
  {
   "cell_type": "code",
   "execution_count": null,
   "id": "f3972ed0-fd9e-40b9-8771-a69eff73af3d",
   "metadata": {},
   "outputs": [],
   "source": []
  }
 ],
 "metadata": {
  "kernelspec": {
   "display_name": "Python 3",
   "language": "python",
   "name": "python3"
  },
  "language_info": {
   "codemirror_mode": {
    "name": "ipython",
    "version": 3
   },
   "file_extension": ".py",
   "mimetype": "text/x-python",
   "name": "python",
   "nbconvert_exporter": "python",
   "pygments_lexer": "ipython3",
   "version": "3.8.8"
  }
 },
 "nbformat": 4,
 "nbformat_minor": 5
}
