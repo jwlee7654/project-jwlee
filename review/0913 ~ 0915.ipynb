{
 "cells": [
  {
   "cell_type": "code",
   "execution_count": 1,
   "id": "5023098a-8552-4662-98f3-e3798a7e5eac",
   "metadata": {},
   "outputs": [
    {
     "name": "stdout",
     "output_type": "stream",
     "text": [
      "Hello World!\n",
      "100\n",
      "3.14\n",
      "My name is Lee Jae Won and I'm tired.\n"
     ]
    }
   ],
   "source": [
    "#print\n",
    "\n",
    "print(\"Hello World!\")\n",
    "print(100)\n",
    "pi = 3.14\n",
    "print(pi)\n",
    "\n",
    "introduce = \"My name is \"\n",
    "name = \"Lee Jae Won\"\n",
    "\n",
    "print(introduce + name + \" and I'm tired.\")"
   ]
  },
  {
   "cell_type": "code",
   "execution_count": 2,
   "id": "6f1e6246-1c5d-4037-a8d0-f8dbd3ec5d2e",
   "metadata": {},
   "outputs": [],
   "source": [
    "#variables\n",
    "\n",
    "user_name = \"Lee Jae Won\"\n",
    "user_id = 20210024\n",
    "user_email = \"jwlee7654@hs.ac.kr\"\n",
    "is_student = True\n",
    "my_eyes = 1.5\n",
    "type(my_eyes)\n",
    "\n",
    "# 본인을 표현할 수 있는 정보를 변수로 정의해 보세요. 3가지.\n",
    "\n",
    "address = \"Byeongjum\"\n",
    "user_age = 23\n",
    "user_fat = True"
   ]
  },
  {
   "cell_type": "code",
   "execution_count": 3,
   "id": "e8d988f1-151e-47f3-9133-ae53760783e7",
   "metadata": {},
   "outputs": [
    {
     "name": "stdout",
     "output_type": "stream",
     "text": [
      "x =  1\n",
      "Address of x:  140710881404720\n",
      "x =  2\n",
      "Address of x:  140710881404752\n"
     ]
    }
   ],
   "source": [
    "#variables - assignment\n",
    "\n",
    "x = 1\n",
    "print(\"x = \", x)\n",
    "print(\"Address of x: \", id(x))\n",
    "\n",
    "x = 2\n",
    "print(\"x = \", x)\n",
    "print(\"Address of x: \", id(x))"
   ]
  },
  {
   "cell_type": "code",
   "execution_count": 4,
   "id": "a943dca5-3921-474a-b306-b2f4aa02e240",
   "metadata": {},
   "outputs": [],
   "source": [
    "#data types - integer\n",
    "\n",
    "# 본인 집에 있는 사물의 개수를 정수 유형의 변수로 표현하시오.\n",
    "\n",
    "tv = 1\n",
    "PC = 1\n",
    "gamepad = 2\n",
    "soundbar = 1\n",
    "mic = 1"
   ]
  },
  {
   "cell_type": "code",
   "execution_count": 6,
   "id": "56e592cd-0691-4ae7-8c30-15810adcbf56",
   "metadata": {},
   "outputs": [],
   "source": [
    "#data types - real number\n",
    "\n",
    "pi = 3.14\n",
    "kospi_index = 3125.76\n",
    "krw_usd_exchange = 1176.83\n",
    "\n",
    "# 본인이 알고 있는 세 개의 실수를 변수로 표현하시오.\n",
    "# 위의 예시와 중복 x\n",
    "\n",
    "my_PKU_winrate = 70.94\n",
    "my_grade = 3.00\n",
    "my_body_temperature = 36.5"
   ]
  },
  {
   "cell_type": "code",
   "execution_count": 7,
   "id": "21a40009-da5a-406a-b550-fed85bb10ebc",
   "metadata": {},
   "outputs": [
    {
     "name": "stdout",
     "output_type": "stream",
     "text": [
      "Best is Best Starcraft Sonny\n",
      "Borderlands\n",
      "Superbee\n",
      "ZARA\n"
     ]
    }
   ],
   "source": [
    "#data types - string\n",
    "\n",
    "favorite_motto = \"Best is Best\"\n",
    "favorite_game = \"Starcraft\"\n",
    "favorite_athelete = \"Sonny\"\n",
    "favorites = favorite_motto + \" \" + favorite_game + \" \" + favorite_athelete\n",
    "print(favorites)\n",
    "\n",
    "# 본인이 좋아하는 것들을 문자열의 변수로 표현하시오.\n",
    "\n",
    "favorite_game = \"Borderlands\"\n",
    "favorite_rapper = \"Superbee\"\n",
    "favorite_fashion_brand = \"ZARA\"\n",
    "\n",
    "favorite_list = favorite_game + \"\\n\" + favorite_rapper + \"\\n\" + favorite_fashion_brand\n",
    "print(favorite_list)"
   ]
  },
  {
   "cell_type": "code",
   "execution_count": 8,
   "id": "e4fc9bf7-0e36-46bb-8662-8ed20448f898",
   "metadata": {},
   "outputs": [
    {
     "name": "stdout",
     "output_type": "stream",
     "text": [
      "[ERROR]: y is not declared.\n",
      "continue...\n"
     ]
    }
   ],
   "source": [
    "#exeption handling\n",
    "\n",
    "x = 1\n",
    "\n",
    "try:\n",
    "    print(y)\n",
    "    print(x)\n",
    "except:\n",
    "    print(\"[ERROR]: y is not declared.\")\n",
    "\n",
    "print(\"continue...\")"
   ]
  },
  {
   "cell_type": "code",
   "execution_count": null,
   "id": "e2299860-3b49-496c-b75a-5729d73883b9",
   "metadata": {},
   "outputs": [],
   "source": []
  }
 ],
 "metadata": {
  "kernelspec": {
   "display_name": "Python 3",
   "language": "python",
   "name": "python3"
  },
  "language_info": {
   "codemirror_mode": {
    "name": "ipython",
    "version": 3
   },
   "file_extension": ".py",
   "mimetype": "text/x-python",
   "name": "python",
   "nbconvert_exporter": "python",
   "pygments_lexer": "ipython3",
   "version": "3.8.8"
  }
 },
 "nbformat": 4,
 "nbformat_minor": 5
}
