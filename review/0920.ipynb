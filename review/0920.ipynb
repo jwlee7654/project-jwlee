{
 "cells": [
  {
   "cell_type": "code",
   "execution_count": 1,
   "id": "e7340093-b772-403f-8573-ff260c80b8d8",
   "metadata": {},
   "outputs": [
    {
     "name": "stdout",
     "output_type": "stream",
     "text": [
      "[2, 3, 5, 7, 11, 2]\n",
      "\n",
      "\n"
     ]
    }
   ],
   "source": [
    "#list\n",
    "\n",
    "primes = [2, 3, 5, 7, 11, 2]\n",
    "print(primes)\n",
    "empty_list = []\n",
    "print('\\n')"
   ]
  },
  {
   "cell_type": "code",
   "execution_count": 2,
   "id": "1a074ad1-dd10-4cda-9d92-b6350e86b495",
   "metadata": {},
   "outputs": [
    {
     "name": "stdout",
     "output_type": "stream",
     "text": [
      "['Jenny', 1, 1.4, True]\n",
      "\n",
      "\n"
     ]
    }
   ],
   "source": [
    "#different data types\n",
    "\n",
    "mixed = ['Jenny', 1, 1.4, True]\n",
    "print(mixed)\n",
    "list_of_lists = [['a', 1], ['b', 2]]\n",
    "print('\\n')"
   ]
  },
  {
   "cell_type": "code",
   "execution_count": 3,
   "id": "e8ad8405-1b70-4f12-9600-69aa97c19ffe",
   "metadata": {},
   "outputs": [
    {
     "name": "stdout",
     "output_type": "stream",
     "text": [
      "Roger\n",
      "Rafael\n",
      "Andy\n",
      "Novak\n",
      "\n",
      "\n"
     ]
    }
   ],
   "source": [
    "#zero-indexing\n",
    "\n",
    "names = ['Roger', 'Rafael', 'Andy', 'Novak']\n",
    "print(names[0])\n",
    "print(names[1])\n",
    "print(names[2])\n",
    "print(names[3])\n",
    "print('\\n')"
   ]
  },
  {
   "cell_type": "code",
   "execution_count": 4,
   "id": "e3ae9911-3199-4a06-a756-06f0e61b0dad",
   "metadata": {},
   "outputs": [
    {
     "name": "stdout",
     "output_type": "stream",
     "text": [
      "Novak\n",
      "Andy\n",
      "Rafael\n",
      "Roger\n",
      "\n",
      "\n"
     ]
    }
   ],
   "source": [
    "#negative indexing\n",
    "\n",
    "print(names[-1]) # Last data\n",
    "print(names[-2]) # Second to last data\n",
    "print(names[-3]) # Third to last data\n",
    "print(names[-4])\n",
    "print('\\n')"
   ]
  },
  {
   "cell_type": "code",
   "execution_count": 5,
   "id": "3bda1af1-63ba-4e74-83f0-c14b11300b73",
   "metadata": {},
   "outputs": [
    {
     "name": "stdout",
     "output_type": "stream",
     "text": [
      "['생활관', '필헌관', '소통관']\n",
      "['만우관', '장공관', '필헌관', '소통관', '송암관', '늦봄관', '장준하통일관']\n",
      "\n",
      "\n"
     ]
    }
   ],
   "source": [
    "#list slicing\n",
    "\n",
    "hsu_buildings = ['만우관', '장공관', '필헌관', '소통관', '송암관', '늦봄관', '장준하통일관']\n",
    "building_slice = hsu_buildings[1:4] # 독립적인 객체\n",
    "building_slice[0] = '생활관'\n",
    "\n",
    "print(building_slice)\n",
    "print(hsu_buildings)\n",
    "print('\\n')"
   ]
  },
  {
   "cell_type": "code",
   "execution_count": 6,
   "id": "d161f54e-0419-4b60-b42d-e65753795b37",
   "metadata": {},
   "outputs": [
    {
     "name": "stdout",
     "output_type": "stream",
     "text": [
      "중화비빔밥\n",
      "['해우리', '한식', '해우라면']\n",
      "\n",
      "\n"
     ]
    }
   ],
   "source": [
    "#multi-dimensional Lists\n",
    "\n",
    "restaurants = [['해우리', '한식', '고S'], ['짜장명가', '중식', '중화비빔밥'], ['찌개동아리', '한식', '제육전골'], ['맘스터치', '양식', '싸이버거']]\n",
    "print(restaurants[1][2])\n",
    "\n",
    "restaurants[0][2] = '해우라면'\n",
    "print(restaurants[0])\n",
    "print('\\n')"
   ]
  },
  {
   "cell_type": "code",
   "execution_count": 7,
   "id": "728573bd-3fdd-4e80-aa43-f3aadc9b3e57",
   "metadata": {},
   "outputs": [
    {
     "name": "stdout",
     "output_type": "stream",
     "text": [
      "['cake', 'cookie', 'bread', 'biscuit', 'tart']\n",
      "\n",
      "\n"
     ]
    }
   ],
   "source": [
    "#list merging\n",
    "\n",
    "items_one = ['cake', 'cookie', 'bread']\n",
    "items_two = ['biscuit', 'tart']\n",
    "total_items = items_one + items_two\n",
    "print(total_items)\n",
    "print('\\n')"
   ]
  },
  {
   "cell_type": "code",
   "execution_count": 8,
   "id": "0c71cd26-59ad-4f6c-93fc-7307c73db74d",
   "metadata": {},
   "outputs": [
    {
     "name": "stdout",
     "output_type": "stream",
     "text": [
      "5\n"
     ]
    }
   ],
   "source": [
    "#useful Methods for Lists\n",
    "\n",
    "#len\n",
    "\n",
    "knapsack = [2, 4, 3, 7, 10]\n",
    "size = len(knapsack)\n",
    "print(size)"
   ]
  },
  {
   "cell_type": "code",
   "execution_count": 9,
   "id": "7e92a000-42fd-44d6-af91-897c1469427c",
   "metadata": {},
   "outputs": [
    {
     "name": "stdout",
     "output_type": "stream",
     "text": [
      "1\n"
     ]
    }
   ],
   "source": [
    "#count\n",
    "\n",
    "backpack = ['pencil', 'pen', 'notebook']\n",
    "numPen = backpack.count('pen')\n",
    "print(numPen)"
   ]
  },
  {
   "cell_type": "code",
   "execution_count": 10,
   "id": "b45a8133-06da-4b1d-8314-4c6cdcf436e1",
   "metadata": {},
   "outputs": [
    {
     "name": "stdout",
     "output_type": "stream",
     "text": [
      "['daisies', 'periwinkle', 'tulips']\n"
     ]
    }
   ],
   "source": [
    "#append\n",
    "\n",
    "orders = ['daisies', 'periwinkle']\n",
    "orders.append('tulips')\n",
    "print(orders)"
   ]
  },
  {
   "cell_type": "code",
   "execution_count": 11,
   "id": "e0dda8cc-e230-4422-a87a-057e405ea9ad",
   "metadata": {},
   "outputs": [
    {
     "name": "stdout",
     "output_type": "stream",
     "text": [
      "['Karla', 'Maxium', 'Vikor', 'Martin', 'Isabella']\n"
     ]
    }
   ],
   "source": [
    "#insert\n",
    "\n",
    "store_line = ['Karla', 'Maxium', 'Martin', 'Isabella']\n",
    "store_line.insert(2, 'Vikor')\n",
    "print(store_line)"
   ]
  },
  {
   "cell_type": "code",
   "execution_count": 12,
   "id": "9e2c30a6-6980-41fc-9d01-44e422d206a0",
   "metadata": {},
   "outputs": [
    {
     "name": "stdout",
     "output_type": "stream",
     "text": [
      "['C Programming', 'Data Structures', 'Data Science']\n"
     ]
    }
   ],
   "source": [
    "#remove\n",
    "\n",
    "sw_subjects = ['C Programming', 'Data Structures', 'Calculus','Data Science']\n",
    "sw_subjects.remove('Calculus')\n",
    "print(sw_subjects)"
   ]
  },
  {
   "cell_type": "code",
   "execution_count": 14,
   "id": "c0191c1e-4dc0-4634-833c-662baa83977d",
   "metadata": {},
   "outputs": [
    {
     "name": "stdout",
     "output_type": "stream",
     "text": [
      "[1, 2, 3, 4]\n",
      "['늦봄관', '만우관', '소통관', '송암관', '장공관', '장준하통일관', '필헌관']\n"
     ]
    }
   ],
   "source": [
    "#sort\n",
    "\n",
    "numbers = [4, 2, 1, 3]\n",
    "numbers.sort()\n",
    "print(numbers)\n",
    "\n",
    "hsu_buildings2 = ['만우관', '장공관', '필헌관', '소통관', '송암관', '늦봄관', '장준하통일관']\n",
    "hsu_buildings2.sort()\n",
    "print(hsu_buildings2)"
   ]
  },
  {
   "cell_type": "code",
   "execution_count": 15,
   "id": "429cf2c5-42a5-4c34-8b02-d66d2b18f53c",
   "metadata": {},
   "outputs": [
    {
     "name": "stdout",
     "output_type": "stream",
     "text": [
      "[1, 2, 6, 15]\n"
     ]
    }
   ],
   "source": [
    "#sorted\n",
    "\n",
    "numbers2 = [15, 2, 6, 1]\n",
    "sorted_numbers = sorted(numbers2)\n",
    "print(sorted_numbers)"
   ]
  },
  {
   "cell_type": "code",
   "execution_count": null,
   "id": "860d4759-758e-4aea-bb5d-1be60d43d125",
   "metadata": {},
   "outputs": [],
   "source": []
  }
 ],
 "metadata": {
  "kernelspec": {
   "display_name": "Python 3",
   "language": "python",
   "name": "python3"
  },
  "language_info": {
   "codemirror_mode": {
    "name": "ipython",
    "version": 3
   },
   "file_extension": ".py",
   "mimetype": "text/x-python",
   "name": "python",
   "nbconvert_exporter": "python",
   "pygments_lexer": "ipython3",
   "version": "3.8.8"
  }
 },
 "nbformat": 4,
 "nbformat_minor": 5
}
