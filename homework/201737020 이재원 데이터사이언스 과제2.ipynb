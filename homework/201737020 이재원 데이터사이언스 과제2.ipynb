{
 "cells": [
  {
   "cell_type": "code",
   "execution_count": 16,
   "id": "6df422cc-f38f-4cd6-b70d-f29ecf65300a",
   "metadata": {},
   "outputs": [
    {
     "name": "stdout",
     "output_type": "stream",
     "text": [
      "[['physics', 98], ['calculus', 97], ['poetry', 85], ['history', 88]]\n",
      "[['physics', 98], ['calculus', 97], ['poetry', 85], ['history', 88], ['computer science', 100], ['visual arts', 98]]\n",
      "[['physics', 98], ['calculus', 97], ['poetry', 'Pass'], ['history', 88], ['computer science', 100], ['visual arts', 98]]\n",
      "[['politics', 80], ['latin', 96], ['dance', 97], ['architecture', 65], ['physics', 98], ['calculus', 97], ['poetry', 'Pass'], ['history', 88], ['computer science', 100], ['visual arts', 98]]\n"
     ]
    }
   ],
   "source": [
    "subjects = [\"physics\", \"claculus\", \"poetry\", \"history\"]\n",
    "grades = [98, 97, 85, 88]\n",
    "\n",
    "gradebook = [[\"physics\", 98], [\"calculus\", 97], [\"poetry\", 85], [\"history\", 88]]\n",
    "\n",
    "print(gradebook)\n",
    "\n",
    "gradebook.append([\"computer science\", 100])\n",
    "gradebook.append([\"visual arts\", 98])\n",
    "\n",
    "print(gradebook)\n",
    "\n",
    "gradebook[2].remove(85)\n",
    "gradebook[2].append(\"Pass\")\n",
    "\n",
    "print(gradebook)\n",
    "\n",
    "last_semester_gradebook = [[\"politics\", 80], [\"latin\", 96], [\"dance\", 97], [\"architecture\", 65]]\n",
    "\n",
    "full_gradebook = last_semester_gradebook + gradebook\n",
    "\n",
    "print(full_gradebook)"
   ]
  },
  {
   "cell_type": "code",
   "execution_count": null,
   "id": "a19a672b-d31c-4b94-af71-f818ac293463",
   "metadata": {},
   "outputs": [],
   "source": []
  }
 ],
 "metadata": {
  "kernelspec": {
   "display_name": "Python 3",
   "language": "python",
   "name": "python3"
  },
  "language_info": {
   "codemirror_mode": {
    "name": "ipython",
    "version": 3
   },
   "file_extension": ".py",
   "mimetype": "text/x-python",
   "name": "python",
   "nbconvert_exporter": "python",
   "pygments_lexer": "ipython3",
   "version": "3.8.8"
  }
 },
 "nbformat": 4,
 "nbformat_minor": 5
}
