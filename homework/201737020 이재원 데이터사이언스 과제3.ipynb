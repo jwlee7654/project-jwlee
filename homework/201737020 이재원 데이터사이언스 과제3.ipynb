{
 "cells": [
  {
   "cell_type": "code",
   "execution_count": 77,
   "id": "4a0ad3f8-b7a3-4746-8759-8910af80ebbd",
   "metadata": {},
   "outputs": [
    {
     "name": "stdout",
     "output_type": "stream",
     "text": [
      "Average price is 31.875\n",
      "[25, 20, 35, 15, 15, 30, 45, 30]\n",
      "Average daily revenue is 155.0\n",
      "['bouffant', 'pixie', 'crew', 'bowl']\n"
     ]
    }
   ],
   "source": [
    "hairstyles = [\"bouffant\", \"pixie\", \"dreadlocks\", \"crew\", \"bowl\", \"bob\", \"mohawk\", \"flattop\"]\n",
    "\n",
    "prices = [30, 25, 40, 20, 20, 35, 50, 35]\n",
    "\n",
    "last_week = [2, 3, 5, 8, 4, 4, 6, 2]\n",
    "\n",
    "total_price = 0\n",
    "\n",
    "for i in prices:\n",
    "    total_price += i\n",
    "    \n",
    "average_price = total_price / len(hairstyles)\n",
    "\n",
    "print(\"Average price is {0}\".format(average_price))\n",
    "\n",
    "new_prices = [i - 5 for i in prices]\n",
    "\n",
    "print(new_prices)\n",
    "\n",
    "total_revenue = 0\n",
    "\n",
    "for i in range(0, len(hairstyles)):\n",
    "    total_revenue = total_revenue + (prices[i] * last_week[i])\n",
    "    i = i + 1\n",
    "    \n",
    "average_daily_revenue = total_revenue / 7\n",
    "    \n",
    "print(\"Average daily revenue is {0}\".format(average_daily_revenue))\n",
    "\n",
    "cuts_under_30 = [hairstyles[i] for i in range(0, len(new_prices)-1) if new_prices[i]<30]\n",
    "\n",
    "print(cuts_under_30)"
   ]
  },
  {
   "cell_type": "code",
   "execution_count": null,
   "id": "b977f37c-5ad5-4e0a-93ca-720420a2dc04",
   "metadata": {},
   "outputs": [],
   "source": []
  }
 ],
 "metadata": {
  "kernelspec": {
   "display_name": "Python 3",
   "language": "python",
   "name": "python3"
  },
  "language_info": {
   "codemirror_mode": {
    "name": "ipython",
    "version": 3
   },
   "file_extension": ".py",
   "mimetype": "text/x-python",
   "name": "python",
   "nbconvert_exporter": "python",
   "pygments_lexer": "ipython3",
   "version": "3.8.8"
  }
 },
 "nbformat": 4,
 "nbformat_minor": 5
}
